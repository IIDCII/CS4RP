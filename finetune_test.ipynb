{
 "cells": [
  {
   "cell_type": "markdown",
   "metadata": {},
   "source": [
    "# Fine Tune Test \n",
    "Making a test for fine tuning for planning projections"
   ]
  },
  {
   "cell_type": "code",
   "execution_count": 11,
   "metadata": {},
   "outputs": [],
   "source": [
    "import os\n",
    "import torch\n",
    "from datasets import load_dataset\n",
    "from transformers import ( \n",
    "    AutoTokenizer, \n",
    "    AutoModelForCausalLM,\n",
    "    BitsAndBytesConfig,\n",
    "    HfArgumentParser,\n",
    "    TrainingArguments,\n",
    "    pipeline,\n",
    "    logging,\n",
    "    \n",
    "    )\n",
    "from peft import LoraConfig, PeftModel\n",
    "from trl import SFTTrainer"
   ]
  },
  {
   "cell_type": "code",
   "execution_count": 12,
   "metadata": {},
   "outputs": [],
   "source": [
    "model_name = \"NousResearch/Llama-2-7b-chat-hf\"\n",
    "dataset_name = \"mlabonne/guanaco-llama2-1k\"\n",
    "new_model = \"Llama-2-7b-chat-finetune-qlora\""
   ]
  },
  {
   "cell_type": "code",
   "execution_count": 13,
   "metadata": {},
   "outputs": [],
   "source": [
    "lora_r = 64 #lora attention dimension/ rank\n",
    "lora_alpha = 16 #lora scaling parameter\n",
    "lora_dropout = 0.1 #lora dropout probability"
   ]
  },
  {
   "cell_type": "code",
   "execution_count": 15,
   "metadata": {},
   "outputs": [],
   "source": [
    "# if you want to use QLoRA, not planning on using it for this proj\n",
    "use_4bit = False\n",
    "bnb_4bit_compute_dtype = \"float16\"\n",
    "bnb_4bit_quant_type = \"nf4\"\n",
    "use_nested_quant = False"
   ]
  },
  {
   "cell_type": "code",
   "execution_count": 16,
   "metadata": {},
   "outputs": [],
   "source": [
    "#output directory where the model predictions and checkpoints will be stored\n",
    "output_dir = \"./results\"\n",
    "\n",
    "#number of training epochs\n",
    "num_train_epochs = 1\n",
    "\n",
    "#enable fp16/bf16 training (set bf16 to True when using A100 GPU in google colab)\n",
    "fp16 = False\n",
    "bf16 = False\n",
    "\n",
    "#batch size per GPU for training\n",
    "per_device_train_batch_size = 4\n",
    "\n",
    "#batch size per GPU for evaluation\n",
    "per_device_eval_batch_size = 4\n",
    "\n",
    "#gradient accumulation steps - No of update steps\n",
    "gradient_accumulation_steps = 1\n",
    "\n",
    "#learning rate\n",
    "learning_rate = 2e-4\n",
    "\n",
    "#weight decay\n",
    "weight_decay = 0.001\n",
    "\n",
    "#Gradient clipping(max gradient Normal)\n",
    "max_grad_norm = 0.3\n",
    "\n",
    "#optimizer to use\n",
    "optim = \"paged_adamw_32bit\"\n",
    "\n",
    "#learning rate scheduler\n",
    "lr_scheduler_type = \"cosine\"\n",
    "\n",
    "#seed for reproducibility\n",
    "seed = 1\n",
    "\n",
    "#Number of training steps\n",
    "max_steps = -1\n",
    "\n",
    "#Ratio of steps for linear warmup\n",
    "warmup_ratio = 0.03\n",
    "\n",
    "#group sequnces into batches with same length\n",
    "group_by_length = True\n",
    "\n",
    "#save checkpoint every X updates steps\n",
    "save_steps = 0\n",
    "\n",
    "#Log at every X updates steps\n",
    "logging_steps = 50"
   ]
  },
  {
   "cell_type": "code",
   "execution_count": 17,
   "metadata": {},
   "outputs": [],
   "source": [
    "#maximum sequence length to use\n",
    "max_seq_length = None\n",
    "\n",
    "packing = False\n",
    "\n",
    "#load the entire model on the GPU\n",
    "device_map = {\"\":0}"
   ]
  },
  {
   "cell_type": "code",
   "execution_count": null,
   "metadata": {},
   "outputs": [],
   "source": [
    "# removed the quantisation config\n",
    "\n",
    "#load dataset\n",
    "dataset = load_dataset(dataset_name,split = \"train\")\n",
    "\n",
    "#load tokenizer and model with QLoRA config\n",
    "compute_dtype = getattr(torch, bnb_4bit_compute_dtype)\n",
    "\n",
    "#cheking GPU compatibility with bfloat16\n",
    "if compute_dtype == torch.float16 and use_4bit:\n",
    "    major, _ = torch.cuda.get_device_capability()\n",
    "    if major >= 8:\n",
    "        print(\"=\"*80)\n",
    "        print(\"Your GPU supports bfloat16, you are getting accelerate training with bf16= True\")\n",
    "        print(\"=\"*80)\n",
    "\n",
    "#load base model\n",
    "model = AutoModelForCausalLM.from_pretrained(\n",
    "    model_name,\n",
    "    device_map = device_map,\n",
    ")\n",
    "\n",
    "model.config.use_cache = False\n",
    "model.config.pretraining_tp = 1"
   ]
  },
  {
   "cell_type": "code",
   "execution_count": null,
   "metadata": {},
   "outputs": [],
   "source": [
    "#Load LLama tokenizer\n",
    "tokenizer = AutoTokenizer.from_pretrained(model_name,trust_remote_code = True)\n",
    "tokenizer.pad_token = tokenizer.eos_token\n",
    "tokenizer.padding_side = \"right\"\n",
    "\n",
    "#Load QLoRA config\n",
    "peft_config = LoraConfig(\n",
    "    lora_alpha = lora_alpha,\n",
    "    lora_dropout = lora_dropout,\n",
    "    r  = lora_r,\n",
    "    bias = \"none\",\n",
    "    task_type = \"CAUSAL_LM\",\n",
    ")"
   ]
  },
  {
   "cell_type": "code",
   "execution_count": null,
   "metadata": {},
   "outputs": [],
   "source": [
    "#save trained model\n",
    "trainer.model.save_pretrained(new_model)\n",
    "\n",
    "# Ignore warnings\n",
    "logging.set_verbosity(logging.CRITICAL)\n",
    "\n",
    "# Run text generation pipeline with our next model\n",
    "prompt = \"How can I learn to optimize my webpage for search engines?\"\n",
    "pipe = pipeline(task=\"text-generation\", model=model, tokenizer=tokenizer, max_length=200)\n",
    "result = pipe(f\"<s>[INST] {prompt} [/INST]\")\n",
    "print(result[0]['generated_text'])"
   ]
  },
  {
   "cell_type": "code",
   "execution_count": null,
   "metadata": {},
   "outputs": [],
   "source": [
    "# Reload model in FP16 and merge it with LoRA weights\n",
    "base_model = AutoModelForCausalLM.from_pretrained(\n",
    "    model_name,\n",
    "    low_cpu_mem_usage=True,\n",
    "    return_dict=True,\n",
    "    torch_dtype=torch.float16,\n",
    "    device_map=device_map,\n",
    ")\n",
    "model = PeftModel.from_pretrained(base_model, new_model)\n",
    "model = model.merge_and_unload()\n",
    "\n",
    "# Reload tokenizer to save it\n",
    "tokenizer = AutoTokenizer.from_pretrained(model_name, trust_remote_code=True)\n",
    "tokenizer.pad_token = tokenizer.eos_token\n",
    "tokenizer.padding_side = \"right\""
   ]
  }
 ],
 "metadata": {
  "kernelspec": {
   "display_name": "fttenv",
   "language": "python",
   "name": "python3"
  },
  "language_info": {
   "codemirror_mode": {
    "name": "ipython",
    "version": 3
   },
   "file_extension": ".py",
   "mimetype": "text/x-python",
   "name": "python",
   "nbconvert_exporter": "python",
   "pygments_lexer": "ipython3",
   "version": "3.12.3"
  }
 },
 "nbformat": 4,
 "nbformat_minor": 2
}
